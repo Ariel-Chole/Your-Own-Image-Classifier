{
 "cells": [
  {
   "cell_type": "code",
   "execution_count": 14,
   "id": "1cd0abee",
   "metadata": {},
   "outputs": [
    {
     "name": "stdout",
     "output_type": "stream",
     "text": [
      "/opt/conda/lib/python3.10/site-packages/torchvision/models/_utils.py:208: UserWarning: The parameter 'pretrained' is deprecated since 0.13 and may be removed in the future, please use 'weights' instead.\n",
      "  warnings.warn(\n",
      "/opt/conda/lib/python3.10/site-packages/torchvision/models/_utils.py:223: UserWarning: Arguments other than a weight enum or `None` for 'weights' are deprecated since 0.13 and may be removed in the future. The current behavior is equivalent to passing `weights=VGG16_Weights.IMAGENET1K_V1`. You can also use `weights=VGG16_Weights.DEFAULT` to get the most up-to-date weights.\n",
      "  warnings.warn(msg)\n",
      "Epoch 1/3.. Train loss: 4.303.. Valid loss: 3.578.. Valid accuracy: 22.745%\n",
      "Epoch 1/3.. Train loss: 3.702.. Valid loss: 2.675.. Valid accuracy: 42.072%\n",
      "Epoch 1/3.. Train loss: 2.861.. Valid loss: 1.896.. Valid accuracy: 52.490%\n",
      "Epoch 1/3.. Train loss: 2.431.. Valid loss: 1.481.. Valid accuracy: 63.611%\n",
      "Epoch 1/3.. Train loss: 2.092.. Valid loss: 1.157.. Valid accuracy: 68.692%\n",
      "Epoch 2/3.. Train loss: 1.770.. Valid loss: 1.093.. Valid accuracy: 70.048%\n",
      "Epoch 2/3.. Train loss: 1.656.. Valid loss: 0.949.. Valid accuracy: 73.582%\n",
      "Epoch 2/3.. Train loss: 1.546.. Valid loss: 0.984.. Valid accuracy: 73.740%\n",
      "Epoch 2/3.. Train loss: 1.512.. Valid loss: 0.799.. Valid accuracy: 77.942%\n",
      "Epoch 2/3.. Train loss: 1.345.. Valid loss: 0.852.. Valid accuracy: 76.726%\n",
      "Epoch 3/3.. Train loss: 1.305.. Valid loss: 0.742.. Valid accuracy: 79.452%\n",
      "Epoch 3/3.. Train loss: 1.287.. Valid loss: 0.746.. Valid accuracy: 78.990%\n",
      "Epoch 3/3.. Train loss: 1.235.. Valid loss: 0.667.. Valid accuracy: 82.495%\n",
      "Epoch 3/3.. Train loss: 1.280.. Valid loss: 0.607.. Valid accuracy: 83.178%\n",
      "Epoch 3/3.. Train loss: 1.236.. Valid loss: 0.594.. Valid accuracy: 83.125%\n",
      "Training and Saving model success!\n"
     ]
    }
   ],
   "source": [
    "!python train.py --save_dir 'checkpoint_dir' --arch 'vgg16' --epochs 3 --lr 1e-3 --dropout 0.3 --hidden_layers 256 --gpu cuda data_dir \n"
   ]
  },
  {
   "cell_type": "code",
   "execution_count": 36,
   "id": "da52df7d",
   "metadata": {},
   "outputs": [
    {
     "name": "stdout",
     "output_type": "stream",
     "text": [
      "/opt/conda/lib/python3.10/site-packages/torchvision/models/_utils.py:208: UserWarning: The parameter 'pretrained' is deprecated since 0.13 and may be removed in the future, please use 'weights' instead.\n",
      "  warnings.warn(\n",
      "/opt/conda/lib/python3.10/site-packages/torchvision/models/_utils.py:223: UserWarning: Arguments other than a weight enum or `None` for 'weights' are deprecated since 0.13 and may be removed in the future. The current behavior is equivalent to passing `weights=VGG16_Weights.IMAGENET1K_V1`. You can also use `weights=VGG16_Weights.DEFAULT` to get the most up-to-date weights.\n",
      "  warnings.warn(msg)\n",
      "{'king protea': 0.9874970316886902, 'peruvian lily': 0.006237254478037357, 'bird of paradise': 0.0012681731022894382, 'tiger lily': 0.0009460448636673391, 'passion flower': 0.0007263874867931008}\n"
     ]
    }
   ],
   "source": [
    "!python predict.py input_img --checkpoint 'checkpoint.pth' --top_k 5 --cat_to_name 'cat_to_name.json' --gpu cuda"
   ]
  },
  {
   "cell_type": "code",
   "execution_count": null,
   "id": "eddea747",
   "metadata": {},
   "outputs": [],
   "source": []
  }
 ],
 "metadata": {
  "kernelspec": {
   "display_name": "Python 3 (ipykernel)",
   "language": "python",
   "name": "python3"
  },
  "language_info": {
   "codemirror_mode": {
    "name": "ipython",
    "version": 3
   },
   "file_extension": ".py",
   "mimetype": "text/x-python",
   "name": "python",
   "nbconvert_exporter": "python",
   "pygments_lexer": "ipython3",
   "version": "3.10.11"
  }
 },
 "nbformat": 4,
 "nbformat_minor": 5
}
